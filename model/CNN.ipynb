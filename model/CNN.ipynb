{
 "cells": [
  {
   "cell_type": "code",
   "execution_count": null,
   "metadata": {
    "collapsed": true
   },
   "outputs": [],
   "source": [
    "# Copyright 2014-2017 Bert Carremans\n",
    "# Author: Bert Carremans <bertcarremans.be>\n",
    "#\n",
    "# License: BSD 3 clause"
   ]
  },
  {
   "cell_type": "markdown",
   "metadata": {},
   "source": [
    "### Importing modules"
   ]
  },
  {
   "cell_type": "code",
   "execution_count": null,
   "metadata": {
    "collapsed": true
   },
   "outputs": [],
   "source": [
    "from keras.models import Sequential\n",
    "from keras.layers import Conv2D, MaxPooling2D\n",
    "from keras.layers import Activation, Flatten, Dense, Dropout\n",
    "from keras.preprocessing.image import ImageDataGenerator\n",
    "\n",
    "import time"
   ]
  },
  {
   "cell_type": "markdown",
   "metadata": {},
   "source": [
    "### Config"
   ]
  },
  {
   "cell_type": "code",
   "execution_count": null,
   "metadata": {
    "collapsed": true
   },
   "outputs": [],
   "source": [
    "IMG_SIZE = 75\n",
    "NB_CHANNELS = 3\n",
    "BATCH_SIZE = 32\n",
    "NB_TRAIN_IMG = 1800\n",
    "NB_VALID_IMG = 600"
   ]
  },
  {
   "cell_type": "markdown",
   "metadata": {},
   "source": [
    "### Defining generators"
   ]
  },
  {
   "cell_type": "code",
   "execution_count": null,
   "metadata": {
    "collapsed": false
   },
   "outputs": [],
   "source": [
    "train_datagen = ImageDataGenerator(\n",
    "    rotation_range = 40,                  \n",
    "    width_shift_range = 0.2,                  \n",
    "    height_shift_range = 0.2,                  \n",
    "    rescale = 1./255,                  \n",
    "    shear_range = 0.2,                  \n",
    "    zoom_range = 0.2,                     \n",
    "    horizontal_flip = True)\n",
    "\n",
    "validation_datagen = ImageDataGenerator(rescale = 1./255)\n",
    "\n",
    "train_generator = train_datagen.flow_from_directory(\n",
    "    '../flickr/img/train',\n",
    "    target_size=(IMG_SIZE,IMG_SIZE),\n",
    "    class_mode='binary',\n",
    "    batch_size = BATCH_SIZE)\n",
    "\n",
    "validation_generator = validation_datagen.flow_from_directory(\n",
    "    '../flickr/img/validation',\n",
    "    target_size=(IMG_SIZE,IMG_SIZE),\n",
    "    class_mode='binary',\n",
    "    batch_size = BATCH_SIZE)"
   ]
  },
  {
   "cell_type": "markdown",
   "metadata": {},
   "source": [
    "### CNN structure"
   ]
  },
  {
   "cell_type": "code",
   "execution_count": null,
   "metadata": {
    "collapsed": false
   },
   "outputs": [],
   "source": [
    "cnn = Sequential()\n",
    "\n",
    "cnn.add(Conv2D(filters=32, \n",
    "               kernel_size=(2,2), \n",
    "               strides=(1,1),\n",
    "               padding='same',\n",
    "               input_shape=(IMG_SIZE,IMG_SIZE,NB_CHANNELS),\n",
    "               data_format='channels_last'))\n",
    "cnn.add(Activation('relu'))\n",
    "cnn.add(MaxPooling2D(pool_size=(2,2),\n",
    "                     strides=2))\n",
    "\n",
    "cnn.add(Dropout(0.4))\n",
    "\n",
    "cnn.add(Conv2D(filters=64,\n",
    "               kernel_size=(2,2),\n",
    "               strides=(1,1),\n",
    "               padding='valid'))\n",
    "cnn.add(Activation('relu'))\n",
    "cnn.add(MaxPooling2D(pool_size=(2,2),\n",
    "                     strides=2))\n",
    "\n",
    "cnn.add(Flatten())        \n",
    "cnn.add(Dense(64))\n",
    "cnn.add(Activation('relu'))\n",
    "\n",
    "cnn.add(Dropout(0.4))\n",
    "\n",
    "cnn.add(Dense(1))\n",
    "cnn.add(Activation('sigmoid'))\n",
    "\n",
    "cnn.compile(loss = 'binary_crossentropy', \n",
    "            optimizer = 'rmsprop', metrics = ['accuracy'])"
   ]
  },
  {
   "cell_type": "markdown",
   "metadata": {},
   "source": [
    "### Model training"
   ]
  },
  {
   "cell_type": "code",
   "execution_count": null,
   "metadata": {
    "collapsed": false
   },
   "outputs": [],
   "source": [
    "start = time.time()\n",
    "cnn.fit_generator(\n",
    "    train_generator,\n",
    "    steps_per_epoch=NB_TRAIN_IMG//BATCH_SIZE,\n",
    "    epochs=50,\n",
    "    validation_data=validation_generator,\n",
    "    validation_steps=NB_VALID_IMG//BATCH_SIZE)\n",
    "end = time.time()\n",
    "print('Processing time:',(end - start)/60)\n",
    "cnn.save_weights('cnn.h5')"
   ]
  }
 ],
 "metadata": {
  "kernelspec": {
   "display_name": "Python 3",
   "language": "python",
   "name": "python3"
  },
  "language_info": {
   "codemirror_mode": {
    "name": "ipython",
    "version": 3
   },
   "file_extension": ".py",
   "mimetype": "text/x-python",
   "name": "python",
   "nbconvert_exporter": "python",
   "pygments_lexer": "ipython3",
   "version": "3.6.0"
  }
 },
 "nbformat": 4,
 "nbformat_minor": 2
}
