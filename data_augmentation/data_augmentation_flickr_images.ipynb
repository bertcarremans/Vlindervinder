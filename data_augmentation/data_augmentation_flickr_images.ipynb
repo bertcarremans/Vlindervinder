{
 "cells": [
  {
   "cell_type": "code",
   "execution_count": null,
   "metadata": {
    "collapsed": false
   },
   "outputs": [],
   "source": [
    "# Copyright 2014-2017 Bert Carremans\n",
    "# Author: Bert Carremans <bertcarremans.be>\n",
    "#\n",
    "# License: BSD 3 clause\n",
    "from keras.preprocessing.image import ImageDataGenerator, img_to_array, load_img\n",
    "\n",
    "train_datagen = ImageDataGenerator(\n",
    "    rotation_range = 40,                  \n",
    "    width_shift_range = 0.2,                  \n",
    "    height_shift_range = 0.2,                  \n",
    "    rescale = 1./255,                  \n",
    "    shear_range = 0.2,                  \n",
    "    zoom_range = 0.2,                     \n",
    "    horizontal_flip = True)\n",
    "\n",
    "validation_datagen = ImageDataGenerator(rescale=1./255)\n",
    "\n",
    "train_generator = train_datagen.flow_from_directory(\n",
    "        'data/train',\n",
    "        target_size\n",
    "        batch_size=32,\n",
    "        class_mode='binary')\n",
    "\n",
    "validation_generator = validation_datagen.flow_from_directory(\n",
    "        'data/validation',\n",
    "        batch_size=32,\n",
    "        class_mode='binary')\n"
   ]
  }
 ],
 "metadata": {
  "kernelspec": {
   "display_name": "Python 3",
   "language": "python",
   "name": "python3"
  },
  "language_info": {
   "codemirror_mode": {
    "name": "ipython",
    "version": 3
   },
   "file_extension": ".py",
   "mimetype": "text/x-python",
   "name": "python",
   "nbconvert_exporter": "python",
   "pygments_lexer": "ipython3",
   "version": "3.6.0"
  }
 },
 "nbformat": 4,
 "nbformat_minor": 2
}
